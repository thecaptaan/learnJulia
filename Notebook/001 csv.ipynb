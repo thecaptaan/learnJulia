{
 "cells": [
  {
   "cell_type": "code",
   "execution_count": 2,
   "id": "f9a6f4b3",
   "metadata": {},
   "outputs": [],
   "source": [
    "using CSV, DataFrames"
   ]
  },
  {
   "cell_type": "code",
   "execution_count": 27,
   "id": "61688bcf",
   "metadata": {},
   "outputs": [
    {
     "data": {
      "text/html": [
       "<table class=\"data-frame\"><thead><tr><th></th><th>1</th><th>Eldon Base for stackable storage shelf, platinum</th><th>Muhammed MacIntyre</th></tr><tr><th></th><th>Int64</th><th>String</th><th>String31</th></tr></thead><tbody><p>10 rows × 10 columns (omitted printing of 7 columns)</p><tr><th>1</th><td>2</td><td>1.7 Cubic Foot Compact \"Cube\" Office Refrigerators</td><td>Barry French</td></tr><tr><th>2</th><td>3</td><td>Cardinal Slant-D\\xae Ring Binder, Heavy Gauge Vinyl</td><td>Barry French</td></tr><tr><th>3</th><td>4</td><td>R380</td><td>Clay Rozendal</td></tr><tr><th>4</th><td>5</td><td>Holmes HEPA Air Purifier</td><td>Carlos Soltero</td></tr><tr><th>5</th><td>6</td><td>G.E. Longer-Life Indoor Recessed Floodlight Bulbs</td><td>Carlos Soltero</td></tr><tr><th>6</th><td>7</td><td>Angle-D Binders with Locking Rings, Label Holders</td><td>Carl Jackson</td></tr><tr><th>7</th><td>8</td><td>SAFCO Mobile Desk Side File, Wire Frame</td><td>Carl Jackson</td></tr><tr><th>8</th><td>9</td><td>SAFCO Commercial Wire Shelving, Black</td><td>Monica Federle</td></tr><tr><th>9</th><td>10</td><td>Xerox 198</td><td>Dorothy Badders</td></tr><tr><th>10</th><td>11</td><td>Xerox 1980</td><td>Neola Schneider</td></tr></tbody></table>"
      ],
      "text/latex": [
       "\\begin{tabular}{r|cccc}\n",
       "\t& 1 & Eldon Base for stackable storage shelf, platinum & Muhammed MacIntyre & \\\\\n",
       "\t\\hline\n",
       "\t& Int64 & String & String31 & \\\\\n",
       "\t\\hline\n",
       "\t1 & 2 & 1.7 Cubic Foot Compact \"Cube\" Office Refrigerators & Barry French & $\\dots$ \\\\\n",
       "\t2 & 3 & Cardinal Slant-D\\textbackslash{}xae Ring Binder, Heavy Gauge Vinyl & Barry French & $\\dots$ \\\\\n",
       "\t3 & 4 & R380 & Clay Rozendal & $\\dots$ \\\\\n",
       "\t4 & 5 & Holmes HEPA Air Purifier & Carlos Soltero & $\\dots$ \\\\\n",
       "\t5 & 6 & G.E. Longer-Life Indoor Recessed Floodlight Bulbs & Carlos Soltero & $\\dots$ \\\\\n",
       "\t6 & 7 & Angle-D Binders with Locking Rings, Label Holders & Carl Jackson & $\\dots$ \\\\\n",
       "\t7 & 8 & SAFCO Mobile Desk Side File, Wire Frame & Carl Jackson & $\\dots$ \\\\\n",
       "\t8 & 9 & SAFCO Commercial Wire Shelving, Black & Monica Federle & $\\dots$ \\\\\n",
       "\t9 & 10 & Xerox 198 & Dorothy Badders & $\\dots$ \\\\\n",
       "\t10 & 11 & Xerox 1980 & Neola Schneider & $\\dots$ \\\\\n",
       "\\end{tabular}\n"
      ],
      "text/plain": [
       "\u001b[1m10×10 DataFrame\u001b[0m\n",
       "\u001b[1m Row \u001b[0m│\u001b[1m 1     \u001b[0m\u001b[1m Eldon Base for stackable storage shelf, platinum \u001b[0m\u001b[1m Muhammed MacIn\u001b[0m ⋯\n",
       "\u001b[1m     \u001b[0m│\u001b[90m Int64 \u001b[0m\u001b[90m String                                           \u001b[0m\u001b[90m String31      \u001b[0m ⋯\n",
       "─────┼──────────────────────────────────────────────────────────────────────────\n",
       "   1 │     2  1.7 Cubic Foot Compact \"Cube\" Office Refrigerat…  Barry French   ⋯\n",
       "   2 │     3  Cardinal Slant-D\\xae Ring Binder, Heavy Gauge V…  Barry French\n",
       "   3 │     4  R380                                              Clay Rozendal\n",
       "   4 │     5  Holmes HEPA Air Purifier                          Carlos Soltero\n",
       "   5 │     6  G.E. Longer-Life Indoor Recessed Floodlight Bul…  Carlos Soltero ⋯\n",
       "   6 │     7  Angle-D Binders with Locking Rings, Label Holde…  Carl Jackson\n",
       "   7 │     8  SAFCO Mobile Desk Side File, Wire Frame           Carl Jackson\n",
       "   8 │     9  SAFCO Commercial Wire Shelving, Black             Monica Federle\n",
       "   9 │    10  Xerox 198                                         Dorothy Badder ⋯\n",
       "  10 │    11  Xerox 1980                                        Neola Schneide\n",
       "\u001b[36m                                                               8 columns omitted\u001b[0m"
      ]
     },
     "execution_count": 27,
     "metadata": {},
     "output_type": "execute_result"
    }
   ],
   "source": [
    "data = CSV.read(\"./Data/sample.csv\",DataFrame)\n",
    "first(data,10)"
   ]
  },
  {
   "cell_type": "markdown",
   "id": "2a4c482c",
   "metadata": {},
   "source": [
    "### CSV.read()\n",
    "\n",
    "- passes the input to a valid sink type that will be the recipient of the input data, such as a DataFrame, without making extra copies.\n",
    "\n",
    "### CSV.File()\n",
    "\n",
    "- materializes the input to a valid sink type. This means that the input will be copied before being passed to a valid sink.\n",
    "\n",
    "Our advice is to almost exclusively use ```CSV.read()```.\n",
    "\n",
    "[Puma.ai](https://tutorials.pumas.ai/html/DataWranglingInJulia/04-read_data.html#reading-a-single-csv-file)"
   ]
  },
  {
   "cell_type": "markdown",
   "id": "8e7b0880",
   "metadata": {},
   "source": [
    "### Custom CSV File Specifications\n",
    "\n",
    "- CSV.jl might sometimes fail to correctly guess the specifications of the underlying file. This is where you’ll have to pass the specifications yourself. Fortunately, CSV.read() has the following arguments:\n",
    "\n",
    "- **delim**: either a character, e.g. ';', or string, e.g. \"\\t\", that will be used to indicate how the values are delimited in a file. If empty, CSV.jl will try to guess and detect from the first 10 rows of the file.\n",
    "\n",
    "- **decimal**: a character that will be used to parse floating point numbers. If ',', then 3,14 will be parsed as a float. The default is a dot, '.'.\n",
    "\n",
    "- **missingstring**: By default, every blank value in a CSV file will be parsed as a missing value. Sometimes missing values will be hardcoded as some other value instead of a blank value. For example, it could be a dot \".\" or a string \"NA\". In fact, any value can be specified to represent missing."
   ]
  },
  {
   "cell_type": "code",
   "execution_count": 18,
   "id": "a012dc2b",
   "metadata": {},
   "outputs": [
    {
     "data": {
      "text/plain": [
       "5-element Vector{String}:\n",
       " \"1;\\\"Eldon Base for stackable sto\"\u001b[93m\u001b[1m ⋯ 62 bytes ⋯ \u001b[22m\u001b[39m\"avut;Storage & Organization;0.8\"\n",
       " \"2;\\\"1.7 Cubic Foot Compact Cube \"\u001b[93m\u001b[1m ⋯ 51 bytes ⋯ \u001b[22m\u001b[39m\"6;68.02;Nunavut Appliances;0.58\"\n",
       " \"3;\\\"Cardinal Slant-D® Ring Binde\"\u001b[93m\u001b[1m ⋯ 66 bytes ⋯ \u001b[22m\u001b[39m\"ers and Binder Accessories;0.39\"\n",
       " \"4;R380 Clay Rozendal;483;1198.9\"\u001b[93m\u001b[1m ⋯ 24 bytes ⋯ \u001b[22m\u001b[39m\"lephones and Communication;0.58\"\n",
       " \"5;Holmes HEPA Air Purifier;Carl\"\u001b[93m\u001b[1m ⋯ 23 bytes ⋯ \u001b[22m\u001b[39m\".78;5.94;Nunavut;Appliances;0.5\""
      ]
     },
     "execution_count": 18,
     "metadata": {},
     "output_type": "execute_result"
    }
   ],
   "source": [
    "readlines(\"./Data/sample2.csv\")[1:5]"
   ]
  },
  {
   "cell_type": "code",
   "execution_count": 43,
   "id": "9e2a9f7c",
   "metadata": {},
   "outputs": [
    {
     "data": {
      "text/html": [
       "<table class=\"data-frame\"><thead><tr><th></th><th>ID</th><th>Product Name</th><th>Customer Name</th><th>Date</th></tr><tr><th></th><th>Int64</th><th>String</th><th>String31</th><th>Int64</th></tr></thead><tbody><p>11 rows × 10 columns (omitted printing of 6 columns)</p><tr><th>1</th><td>1</td><td>Eldon Base for stackable storage shelf platinum</td><td>Muhammed MacIntyre</td><td>3</td></tr><tr><th>2</th><td>2</td><td>Cubic Foot Compact Cube Office Refrigerators</td><td>Barry French</td><td>293</td></tr><tr><th>3</th><td>3</td><td>Cardinal Slant-D Ring Binder Heavy Gauge Vinyl</td><td>Barry French</td><td>293</td></tr><tr><th>4</th><td>4</td><td>R380 Clay Rozendal</td><td>Barry French</td><td>483</td></tr><tr><th>5</th><td>5</td><td>Holmes HEPA Air Purifier</td><td>Carlos Soltero</td><td>515</td></tr><tr><th>6</th><td>6</td><td>G.E. Longer-Life Indoor Recessed Floodlight Bulbs</td><td>Carlos Soltero</td><td>515</td></tr><tr><th>7</th><td>7</td><td>Angle-D Binders with Locking Rings Label Holders</td><td>Carl Jackson</td><td>613</td></tr><tr><th>8</th><td>8</td><td>SAFCO Mobile Desk Side File Wire Frame</td><td>Carl Jackson</td><td>613</td></tr><tr><th>9</th><td>9</td><td>SAFCO Commercial Wire Shelving; Black</td><td>Monica Federle</td><td>643</td></tr><tr><th>10</th><td>10</td><td>Xerox 198</td><td>Dorothy Badders</td><td>678</td></tr><tr><th>11</th><td>11</td><td>Xerox 1980</td><td>Neola Schneider</td><td>807</td></tr></tbody></table>"
      ],
      "text/latex": [
       "\\begin{tabular}{r|ccccc}\n",
       "\t& ID & Product Name & Customer Name & Date & \\\\\n",
       "\t\\hline\n",
       "\t& Int64 & String & String31 & Int64 & \\\\\n",
       "\t\\hline\n",
       "\t1 & 1 & Eldon Base for stackable storage shelf platinum & Muhammed MacIntyre & 3 & $\\dots$ \\\\\n",
       "\t2 & 2 & Cubic Foot Compact Cube Office Refrigerators & Barry French & 293 & $\\dots$ \\\\\n",
       "\t3 & 3 & Cardinal Slant-D Ring Binder Heavy Gauge Vinyl & Barry French & 293 & $\\dots$ \\\\\n",
       "\t4 & 4 & R380 Clay Rozendal & Barry French & 483 & $\\dots$ \\\\\n",
       "\t5 & 5 & Holmes HEPA Air Purifier & Carlos Soltero & 515 & $\\dots$ \\\\\n",
       "\t6 & 6 & G.E. Longer-Life Indoor Recessed Floodlight Bulbs & Carlos Soltero & 515 & $\\dots$ \\\\\n",
       "\t7 & 7 & Angle-D Binders with Locking Rings Label Holders & Carl Jackson & 613 & $\\dots$ \\\\\n",
       "\t8 & 8 & SAFCO Mobile Desk Side File Wire Frame & Carl Jackson & 613 & $\\dots$ \\\\\n",
       "\t9 & 9 & SAFCO Commercial Wire Shelving; Black & Monica Federle & 643 & $\\dots$ \\\\\n",
       "\t10 & 10 & Xerox 198 & Dorothy Badders & 678 & $\\dots$ \\\\\n",
       "\t11 & 11 & Xerox 1980 & Neola Schneider & 807 & $\\dots$ \\\\\n",
       "\\end{tabular}\n"
      ],
      "text/plain": [
       "\u001b[1m11×10 DataFrame\u001b[0m\n",
       "\u001b[1m Row \u001b[0m│\u001b[1m ID    \u001b[0m\u001b[1m Product Name                      \u001b[0m\u001b[1m Customer Name      \u001b[0m\u001b[1m Date  \u001b[0m\u001b[1m Or\u001b[0m ⋯\n",
       "\u001b[1m     \u001b[0m│\u001b[90m Int64 \u001b[0m\u001b[90m String                            \u001b[0m\u001b[90m String31           \u001b[0m\u001b[90m Int64 \u001b[0m\u001b[90m Fl\u001b[0m ⋯\n",
       "─────┼──────────────────────────────────────────────────────────────────────────\n",
       "   1 │     1  Eldon Base for stackable storage…  Muhammed MacIntyre      3     ⋯\n",
       "   2 │     2  Cubic Foot Compact Cube Office R…  Barry French          293\n",
       "   3 │     3  Cardinal Slant-D Ring Binder Hea…  Barry French          293\n",
       "   4 │     4  R380 Clay Rozendal                 Barry French          483\n",
       "   5 │     5  Holmes HEPA Air Purifier           Carlos Soltero        515     ⋯\n",
       "   6 │     6  G.E. Longer-Life Indoor Recessed…  Carlos Soltero        515\n",
       "   7 │     7  Angle-D Binders with Locking Rin…  Carl Jackson          613\n",
       "   8 │     8  SAFCO Mobile Desk Side File Wire…  Carl Jackson          613\n",
       "   9 │     9  SAFCO Commercial Wire Shelving; …  Monica Federle        643     ⋯\n",
       "  10 │    10  Xerox 198                          Dorothy Badders       678\n",
       "  11 │    11  Xerox 1980                         Neola Schneider       807\n",
       "\u001b[36m                                                               6 columns omitted\u001b[0m"
      ]
     },
     "execution_count": 43,
     "metadata": {},
     "output_type": "execute_result"
    }
   ],
   "source": [
    "df = CSV.read(\"./Data/sample2.csv\",DataFrame; delim=';')"
   ]
  },
  {
   "cell_type": "markdown",
   "id": "d13dab16",
   "metadata": {},
   "source": [
    "### Specifying Custom Types for Columns while Reading a CSV File"
   ]
  },
  {
   "cell_type": "markdown",
   "id": "4832ba0c",
   "metadata": {},
   "source": [
    "Sometimes you’ll want to overrule the automatic type detection that CSV.jl will infer for the columns present in the CSV file. This can be done with the keyword argument types. It accepts several inputs, but the easiest and most customizable is a Julia dictionary, where the keys are either an integer (for the column indices) or a string/symbol (for column names) and the values are the desired types."
   ]
  },
  {
   "cell_type": "code",
   "execution_count": 48,
   "id": "63c62931",
   "metadata": {},
   "outputs": [
    {
     "data": {
      "text/html": [
       "<table class=\"data-frame\"><thead><tr><th></th><th>ID</th><th>Product Name</th><th>Customer Name</th><th>Date</th></tr><tr><th></th><th>Int64</th><th>String</th><th>String31</th><th>String</th></tr></thead><tbody><p>11 rows × 10 columns (omitted printing of 6 columns)</p><tr><th>1</th><td>1</td><td>Eldon Base for stackable storage shelf platinum</td><td>Muhammed MacIntyre</td><td>3</td></tr><tr><th>2</th><td>2</td><td>Cubic Foot Compact Cube Office Refrigerators</td><td>Barry French</td><td>293</td></tr><tr><th>3</th><td>3</td><td>Cardinal Slant-D Ring Binder Heavy Gauge Vinyl</td><td>Barry French</td><td>293</td></tr><tr><th>4</th><td>4</td><td>R380 Clay Rozendal</td><td>Barry French</td><td>483</td></tr><tr><th>5</th><td>5</td><td>Holmes HEPA Air Purifier</td><td>Carlos Soltero</td><td>515</td></tr><tr><th>6</th><td>6</td><td>G.E. Longer-Life Indoor Recessed Floodlight Bulbs</td><td>Carlos Soltero</td><td> 515</td></tr><tr><th>7</th><td>7</td><td>Angle-D Binders with Locking Rings Label Holders</td><td>Carl Jackson</td><td>613</td></tr><tr><th>8</th><td>8</td><td>SAFCO Mobile Desk Side File Wire Frame</td><td>Carl Jackson</td><td>613</td></tr><tr><th>9</th><td>9</td><td>SAFCO Commercial Wire Shelving; Black</td><td>Monica Federle</td><td>643</td></tr><tr><th>10</th><td>10</td><td>Xerox 198</td><td>Dorothy Badders</td><td>678</td></tr><tr><th>11</th><td>11</td><td>Xerox 1980</td><td>Neola Schneider</td><td>807</td></tr></tbody></table>"
      ],
      "text/latex": [
       "\\begin{tabular}{r|ccccc}\n",
       "\t& ID & Product Name & Customer Name & Date & \\\\\n",
       "\t\\hline\n",
       "\t& Int64 & String & String31 & String & \\\\\n",
       "\t\\hline\n",
       "\t1 & 1 & Eldon Base for stackable storage shelf platinum & Muhammed MacIntyre & 3 & $\\dots$ \\\\\n",
       "\t2 & 2 & Cubic Foot Compact Cube Office Refrigerators & Barry French & 293 & $\\dots$ \\\\\n",
       "\t3 & 3 & Cardinal Slant-D Ring Binder Heavy Gauge Vinyl & Barry French & 293 & $\\dots$ \\\\\n",
       "\t4 & 4 & R380 Clay Rozendal & Barry French & 483 & $\\dots$ \\\\\n",
       "\t5 & 5 & Holmes HEPA Air Purifier & Carlos Soltero & 515 & $\\dots$ \\\\\n",
       "\t6 & 6 & G.E. Longer-Life Indoor Recessed Floodlight Bulbs & Carlos Soltero &  515 & $\\dots$ \\\\\n",
       "\t7 & 7 & Angle-D Binders with Locking Rings Label Holders & Carl Jackson & 613 & $\\dots$ \\\\\n",
       "\t8 & 8 & SAFCO Mobile Desk Side File Wire Frame & Carl Jackson & 613 & $\\dots$ \\\\\n",
       "\t9 & 9 & SAFCO Commercial Wire Shelving; Black & Monica Federle & 643 & $\\dots$ \\\\\n",
       "\t10 & 10 & Xerox 198 & Dorothy Badders & 678 & $\\dots$ \\\\\n",
       "\t11 & 11 & Xerox 1980 & Neola Schneider & 807 & $\\dots$ \\\\\n",
       "\\end{tabular}\n"
      ],
      "text/plain": [
       "\u001b[1m11×10 DataFrame\u001b[0m\n",
       "\u001b[1m Row \u001b[0m│\u001b[1m ID    \u001b[0m\u001b[1m Product Name                      \u001b[0m\u001b[1m Customer Name      \u001b[0m\u001b[1m Date   \u001b[0m\u001b[1m O\u001b[0m ⋯\n",
       "\u001b[1m     \u001b[0m│\u001b[90m Int64 \u001b[0m\u001b[90m String                            \u001b[0m\u001b[90m String31           \u001b[0m\u001b[90m String \u001b[0m\u001b[90m F\u001b[0m ⋯\n",
       "─────┼──────────────────────────────────────────────────────────────────────────\n",
       "   1 │     1  Eldon Base for stackable storage…  Muhammed MacIntyre  3         ⋯\n",
       "   2 │     2  Cubic Foot Compact Cube Office R…  Barry French        293\n",
       "   3 │     3  Cardinal Slant-D Ring Binder Hea…  Barry French        293\n",
       "   4 │     4  R380 Clay Rozendal                 Barry French        483\n",
       "   5 │     5  Holmes HEPA Air Purifier           Carlos Soltero      515       ⋯\n",
       "   6 │     6  G.E. Longer-Life Indoor Recessed…  Carlos Soltero       515\n",
       "   7 │     7  Angle-D Binders with Locking Rin…  Carl Jackson        613\n",
       "   8 │     8  SAFCO Mobile Desk Side File Wire…  Carl Jackson        613\n",
       "   9 │     9  SAFCO Commercial Wire Shelving; …  Monica Federle      643       ⋯\n",
       "  10 │    10  Xerox 198                          Dorothy Badders     678\n",
       "  11 │    11  Xerox 1980                         Neola Schneider     807\n",
       "\u001b[36m                                                               6 columns omitted\u001b[0m"
      ]
     },
     "execution_count": 48,
     "metadata": {},
     "output_type": "execute_result"
    }
   ],
   "source": [
    "custom_read = CSV.read(\"./Data/sample2.csv\",DataFrame; delim=';', types = Dict(:\"Date\" => String))"
   ]
  },
  {
   "cell_type": "markdown",
   "id": "453e1e9c",
   "metadata": {},
   "source": [
    "### Selecting and Dropping Columns while Reading a CSV File"
   ]
  },
  {
   "cell_type": "markdown",
   "id": "28299735",
   "metadata": {},
   "source": [
    "By default, ```CSV.read()``` will parse and read all the columns in a CSV file. If you want to select or drop specific columns you can do so with the following arguments. Both accept a vector of either strings or integers that represents the names and indices, respectively, of the columns to select or drop.\n",
    "\n",
    "- select\n",
    "- drop"
   ]
  },
  {
   "cell_type": "code",
   "execution_count": 52,
   "id": "f876a5bf",
   "metadata": {},
   "outputs": [
    {
     "data": {
      "text/html": [
       "<table class=\"data-frame\"><thead><tr><th></th><th>ID</th><th>Customer Name</th><th>Order Quantity</th></tr><tr><th></th><th>Int64</th><th>String31</th><th>Float64</th></tr></thead><tbody><p>11 rows × 3 columns</p><tr><th>1</th><td>1</td><td>Muhammed MacIntyre</td><td>38.94</td></tr><tr><th>2</th><td>2</td><td>Barry French</td><td>208.16</td></tr><tr><th>3</th><td>3</td><td>Barry French</td><td>8.69</td></tr><tr><th>4</th><td>4</td><td>Barry French</td><td>195.99</td></tr><tr><th>5</th><td>5</td><td>Carlos Soltero</td><td>21.78</td></tr><tr><th>6</th><td>6</td><td>Carlos Soltero</td><td>6.64</td></tr><tr><th>7</th><td>7</td><td>Carl Jackson</td><td>7.3</td></tr><tr><th>8</th><td>8</td><td>Carl Jackson</td><td>42.76</td></tr><tr><th>9</th><td>9</td><td>Monica Federle</td><td>138.14</td></tr><tr><th>10</th><td>10</td><td>Dorothy Badders</td><td>4.98</td></tr><tr><th>11</th><td>11</td><td>Neola Schneider</td><td>4.28</td></tr></tbody></table>"
      ],
      "text/latex": [
       "\\begin{tabular}{r|ccc}\n",
       "\t& ID & Customer Name & Order Quantity\\\\\n",
       "\t\\hline\n",
       "\t& Int64 & String31 & Float64\\\\\n",
       "\t\\hline\n",
       "\t1 & 1 & Muhammed MacIntyre & 38.94 \\\\\n",
       "\t2 & 2 & Barry French & 208.16 \\\\\n",
       "\t3 & 3 & Barry French & 8.69 \\\\\n",
       "\t4 & 4 & Barry French & 195.99 \\\\\n",
       "\t5 & 5 & Carlos Soltero & 21.78 \\\\\n",
       "\t6 & 6 & Carlos Soltero & 6.64 \\\\\n",
       "\t7 & 7 & Carl Jackson & 7.3 \\\\\n",
       "\t8 & 8 & Carl Jackson & 42.76 \\\\\n",
       "\t9 & 9 & Monica Federle & 138.14 \\\\\n",
       "\t10 & 10 & Dorothy Badders & 4.98 \\\\\n",
       "\t11 & 11 & Neola Schneider & 4.28 \\\\\n",
       "\\end{tabular}\n"
      ],
      "text/plain": [
       "\u001b[1m11×3 DataFrame\u001b[0m\n",
       "\u001b[1m Row \u001b[0m│\u001b[1m ID    \u001b[0m\u001b[1m Customer Name      \u001b[0m\u001b[1m Order Quantity \u001b[0m\n",
       "\u001b[1m     \u001b[0m│\u001b[90m Int64 \u001b[0m\u001b[90m String31           \u001b[0m\u001b[90m Float64        \u001b[0m\n",
       "─────┼───────────────────────────────────────────\n",
       "   1 │     1  Muhammed MacIntyre           38.94\n",
       "   2 │     2  Barry French                208.16\n",
       "   3 │     3  Barry French                  8.69\n",
       "   4 │     4  Barry French                195.99\n",
       "   5 │     5  Carlos Soltero               21.78\n",
       "   6 │     6  Carlos Soltero                6.64\n",
       "   7 │     7  Carl Jackson                  7.3\n",
       "   8 │     8  Carl Jackson                 42.76\n",
       "   9 │     9  Monica Federle              138.14\n",
       "  10 │    10  Dorothy Badders               4.98\n",
       "  11 │    11  Neola Schneider               4.28"
      ]
     },
     "execution_count": 52,
     "metadata": {},
     "output_type": "execute_result"
    }
   ],
   "source": [
    "selected = CSV.read(\"./Data/sample2.csv\", DataFrame; delim=';', select= [1,3,6])"
   ]
  },
  {
   "cell_type": "markdown",
   "id": "b178792b",
   "metadata": {},
   "source": [
    "Notice that we can be clever with the indices. If we want to select a range of indices we can materialize it into a vector using the ```collect()```."
   ]
  },
  {
   "cell_type": "code",
   "execution_count": 53,
   "id": "37ca88dc",
   "metadata": {},
   "outputs": [
    {
     "data": {
      "text/html": [
       "<table class=\"data-frame\"><thead><tr><th></th><th>ID</th><th>Product Name</th><th>Customer Name</th><th>Date</th></tr><tr><th></th><th>Int64</th><th>String</th><th>String31</th><th>Int64</th></tr></thead><tbody><p>11 rows × 6 columns (omitted printing of 2 columns)</p><tr><th>1</th><td>1</td><td>Eldon Base for stackable storage shelf platinum</td><td>Muhammed MacIntyre</td><td>3</td></tr><tr><th>2</th><td>2</td><td>Cubic Foot Compact Cube Office Refrigerators</td><td>Barry French</td><td>293</td></tr><tr><th>3</th><td>3</td><td>Cardinal Slant-D Ring Binder Heavy Gauge Vinyl</td><td>Barry French</td><td>293</td></tr><tr><th>4</th><td>4</td><td>R380 Clay Rozendal</td><td>Barry French</td><td>483</td></tr><tr><th>5</th><td>5</td><td>Holmes HEPA Air Purifier</td><td>Carlos Soltero</td><td>515</td></tr><tr><th>6</th><td>6</td><td>G.E. Longer-Life Indoor Recessed Floodlight Bulbs</td><td>Carlos Soltero</td><td>515</td></tr><tr><th>7</th><td>7</td><td>Angle-D Binders with Locking Rings Label Holders</td><td>Carl Jackson</td><td>613</td></tr><tr><th>8</th><td>8</td><td>SAFCO Mobile Desk Side File Wire Frame</td><td>Carl Jackson</td><td>613</td></tr><tr><th>9</th><td>9</td><td>SAFCO Commercial Wire Shelving; Black</td><td>Monica Federle</td><td>643</td></tr><tr><th>10</th><td>10</td><td>Xerox 198</td><td>Dorothy Badders</td><td>678</td></tr><tr><th>11</th><td>11</td><td>Xerox 1980</td><td>Neola Schneider</td><td>807</td></tr></tbody></table>"
      ],
      "text/latex": [
       "\\begin{tabular}{r|ccccc}\n",
       "\t& ID & Product Name & Customer Name & Date & \\\\\n",
       "\t\\hline\n",
       "\t& Int64 & String & String31 & Int64 & \\\\\n",
       "\t\\hline\n",
       "\t1 & 1 & Eldon Base for stackable storage shelf platinum & Muhammed MacIntyre & 3 & $\\dots$ \\\\\n",
       "\t2 & 2 & Cubic Foot Compact Cube Office Refrigerators & Barry French & 293 & $\\dots$ \\\\\n",
       "\t3 & 3 & Cardinal Slant-D Ring Binder Heavy Gauge Vinyl & Barry French & 293 & $\\dots$ \\\\\n",
       "\t4 & 4 & R380 Clay Rozendal & Barry French & 483 & $\\dots$ \\\\\n",
       "\t5 & 5 & Holmes HEPA Air Purifier & Carlos Soltero & 515 & $\\dots$ \\\\\n",
       "\t6 & 6 & G.E. Longer-Life Indoor Recessed Floodlight Bulbs & Carlos Soltero & 515 & $\\dots$ \\\\\n",
       "\t7 & 7 & Angle-D Binders with Locking Rings Label Holders & Carl Jackson & 613 & $\\dots$ \\\\\n",
       "\t8 & 8 & SAFCO Mobile Desk Side File Wire Frame & Carl Jackson & 613 & $\\dots$ \\\\\n",
       "\t9 & 9 & SAFCO Commercial Wire Shelving; Black & Monica Federle & 643 & $\\dots$ \\\\\n",
       "\t10 & 10 & Xerox 198 & Dorothy Badders & 678 & $\\dots$ \\\\\n",
       "\t11 & 11 & Xerox 1980 & Neola Schneider & 807 & $\\dots$ \\\\\n",
       "\\end{tabular}\n"
      ],
      "text/plain": [
       "\u001b[1m11×6 DataFrame\u001b[0m\n",
       "\u001b[1m Row \u001b[0m│\u001b[1m ID    \u001b[0m\u001b[1m Product Name                      \u001b[0m\u001b[1m Customer Name      \u001b[0m\u001b[1m Date  \u001b[0m\u001b[1m Or\u001b[0m ⋯\n",
       "\u001b[1m     \u001b[0m│\u001b[90m Int64 \u001b[0m\u001b[90m String                            \u001b[0m\u001b[90m String31           \u001b[0m\u001b[90m Int64 \u001b[0m\u001b[90m Fl\u001b[0m ⋯\n",
       "─────┼──────────────────────────────────────────────────────────────────────────\n",
       "   1 │     1  Eldon Base for stackable storage…  Muhammed MacIntyre      3     ⋯\n",
       "   2 │     2  Cubic Foot Compact Cube Office R…  Barry French          293\n",
       "   3 │     3  Cardinal Slant-D Ring Binder Hea…  Barry French          293\n",
       "   4 │     4  R380 Clay Rozendal                 Barry French          483\n",
       "   5 │     5  Holmes HEPA Air Purifier           Carlos Soltero        515     ⋯\n",
       "   6 │     6  G.E. Longer-Life Indoor Recessed…  Carlos Soltero        515\n",
       "   7 │     7  Angle-D Binders with Locking Rin…  Carl Jackson          613\n",
       "   8 │     8  SAFCO Mobile Desk Side File Wire…  Carl Jackson          613\n",
       "   9 │     9  SAFCO Commercial Wire Shelving; …  Monica Federle        643     ⋯\n",
       "  10 │    10  Xerox 198                          Dorothy Badders       678\n",
       "  11 │    11  Xerox 1980                         Neola Schneider       807\n",
       "\u001b[36m                                                               2 columns omitted\u001b[0m"
      ]
     },
     "execution_count": 53,
     "metadata": {},
     "output_type": "execute_result"
    }
   ],
   "source": [
    "selected_collect = CSV.read(\"./Data/sample2.csv\", DataFrame; delim=';', select=collect(1:6))"
   ]
  },
  {
   "cell_type": "code",
   "execution_count": 54,
   "id": "e5211061",
   "metadata": {},
   "outputs": [
    {
     "data": {
      "text/html": [
       "<table class=\"data-frame\"><thead><tr><th></th><th>ID</th><th>Customer Name</th><th>Date</th><th>Order Priority</th><th>Order Quantity</th><th>Sales</th><th>Discount</th></tr><tr><th></th><th>Int64</th><th>String31</th><th>Int64</th><th>Float64</th><th>Float64</th><th>Float64</th><th>String7</th></tr></thead><tbody><p>11 rows × 9 columns (omitted printing of 2 columns)</p><tr><th>1</th><td>1</td><td>Muhammed MacIntyre</td><td>3</td><td>-213.25</td><td>38.94</td><td>35.0</td><td>Nunavut</td></tr><tr><th>2</th><td>2</td><td>Barry French</td><td>293</td><td>457.81</td><td>208.16</td><td>68.02</td><td>Nunavut</td></tr><tr><th>3</th><td>3</td><td>Barry French</td><td>293</td><td>46.71</td><td>8.69</td><td>2.99</td><td>Nunavut</td></tr><tr><th>4</th><td>4</td><td>Barry French</td><td>483</td><td>1198.97</td><td>195.99</td><td>3.99</td><td>Nunavut</td></tr><tr><th>5</th><td>5</td><td>Carlos Soltero</td><td>515</td><td>30.94</td><td>21.78</td><td>5.94</td><td>Nunavut</td></tr><tr><th>6</th><td>6</td><td>Carlos Soltero</td><td>515</td><td>4.43</td><td>6.64</td><td>4.95</td><td>Nunavut</td></tr><tr><th>7</th><td>7</td><td>Carl Jackson</td><td>613</td><td>-54.04</td><td>7.3</td><td>7.72</td><td>Nunavut</td></tr><tr><th>8</th><td>8</td><td>Carl Jackson</td><td>613</td><td>127.7</td><td>42.76</td><td>6.22</td><td>Nunavut</td></tr><tr><th>9</th><td>9</td><td>Monica Federle</td><td>643</td><td>-695.26</td><td>138.14</td><td>35.0</td><td>Nunavut</td></tr><tr><th>10</th><td>10</td><td>Dorothy Badders</td><td>678</td><td>-226.36</td><td>4.98</td><td>8.33</td><td>Nunavut</td></tr><tr><th>11</th><td>11</td><td>Neola Schneider</td><td>807</td><td>-166.85</td><td>4.28</td><td>6.18</td><td>Nunavut</td></tr></tbody></table>"
      ],
      "text/latex": [
       "\\begin{tabular}{r|cccccccc}\n",
       "\t& ID & Customer Name & Date & Order Priority & Order Quantity & Sales & Discount & \\\\\n",
       "\t\\hline\n",
       "\t& Int64 & String31 & Int64 & Float64 & Float64 & Float64 & String7 & \\\\\n",
       "\t\\hline\n",
       "\t1 & 1 & Muhammed MacIntyre & 3 & -213.25 & 38.94 & 35.0 & Nunavut & $\\dots$ \\\\\n",
       "\t2 & 2 & Barry French & 293 & 457.81 & 208.16 & 68.02 & Nunavut & $\\dots$ \\\\\n",
       "\t3 & 3 & Barry French & 293 & 46.71 & 8.69 & 2.99 & Nunavut & $\\dots$ \\\\\n",
       "\t4 & 4 & Barry French & 483 & 1198.97 & 195.99 & 3.99 & Nunavut & $\\dots$ \\\\\n",
       "\t5 & 5 & Carlos Soltero & 515 & 30.94 & 21.78 & 5.94 & Nunavut & $\\dots$ \\\\\n",
       "\t6 & 6 & Carlos Soltero & 515 & 4.43 & 6.64 & 4.95 & Nunavut & $\\dots$ \\\\\n",
       "\t7 & 7 & Carl Jackson & 613 & -54.04 & 7.3 & 7.72 & Nunavut & $\\dots$ \\\\\n",
       "\t8 & 8 & Carl Jackson & 613 & 127.7 & 42.76 & 6.22 & Nunavut & $\\dots$ \\\\\n",
       "\t9 & 9 & Monica Federle & 643 & -695.26 & 138.14 & 35.0 & Nunavut & $\\dots$ \\\\\n",
       "\t10 & 10 & Dorothy Badders & 678 & -226.36 & 4.98 & 8.33 & Nunavut & $\\dots$ \\\\\n",
       "\t11 & 11 & Neola Schneider & 807 & -166.85 & 4.28 & 6.18 & Nunavut & $\\dots$ \\\\\n",
       "\\end{tabular}\n"
      ],
      "text/plain": [
       "\u001b[1m11×9 DataFrame\u001b[0m\n",
       "\u001b[1m Row \u001b[0m│\u001b[1m ID    \u001b[0m\u001b[1m Customer Name      \u001b[0m\u001b[1m Date  \u001b[0m\u001b[1m Order Priority \u001b[0m\u001b[1m Order Quantity \u001b[0m\u001b[1m Sales\u001b[0m ⋯\n",
       "\u001b[1m     \u001b[0m│\u001b[90m Int64 \u001b[0m\u001b[90m String31           \u001b[0m\u001b[90m Int64 \u001b[0m\u001b[90m Float64        \u001b[0m\u001b[90m Float64        \u001b[0m\u001b[90m Float\u001b[0m ⋯\n",
       "─────┼──────────────────────────────────────────────────────────────────────────\n",
       "   1 │     1  Muhammed MacIntyre      3         -213.25           38.94    35. ⋯\n",
       "   2 │     2  Barry French          293          457.81          208.16    68.\n",
       "   3 │     3  Barry French          293           46.71            8.69     2.\n",
       "   4 │     4  Barry French          483         1198.97          195.99     3.\n",
       "   5 │     5  Carlos Soltero        515           30.94           21.78     5. ⋯\n",
       "   6 │     6  Carlos Soltero        515            4.43            6.64     4.\n",
       "   7 │     7  Carl Jackson          613          -54.04            7.3      7.\n",
       "   8 │     8  Carl Jackson          613          127.7            42.76     6.\n",
       "   9 │     9  Monica Federle        643         -695.26          138.14    35. ⋯\n",
       "  10 │    10  Dorothy Badders       678         -226.36            4.98     8.\n",
       "  11 │    11  Neola Schneider       807         -166.85            4.28     6.\n",
       "\u001b[36m                                                               4 columns omitted\u001b[0m"
      ]
     },
     "execution_count": 54,
     "metadata": {},
     "output_type": "execute_result"
    }
   ],
   "source": [
    "droped = CSV.read(\"./Data/sample2.csv\", DataFrame; delim=';', drop=[\"Product Name\"])"
   ]
  },
  {
   "cell_type": "markdown",
   "id": "343317c8",
   "metadata": {},
   "source": [
    "### Writing CSV Files"
   ]
  },
  {
   "cell_type": "markdown",
   "id": "a225d8f2",
   "metadata": {},
   "source": [
    "In order to write CSV files, you’ll use the ```CSV.write()``` function which can be used in two ways:\n",
    "\n",
    "By passing a file path as a string as the first argument and a table (such as a DataFrame) as the second argument."
   ]
  },
  {
   "cell_type": "code",
   "execution_count": 58,
   "id": "f4dbfec6",
   "metadata": {},
   "outputs": [
    {
     "data": {
      "text/plain": [
       "\"./Data/my_file.csv\""
      ]
     },
     "execution_count": 58,
     "metadata": {},
     "output_type": "execute_result"
    }
   ],
   "source": [
    "my_df =  DataFrame(A=1:2:100, B=repeat(1:50), C=1:50)\n",
    "CSV.write(\"./Data/my_file.csv\", my_df)"
   ]
  },
  {
   "cell_type": "markdown",
   "id": "f7f32a03",
   "metadata": {},
   "source": [
    "where ```my_df``` is a DataFrame."
   ]
  },
  {
   "cell_type": "markdown",
   "id": "5aef171d",
   "metadata": {},
   "source": [
    "By *“piping”* the table (such as a DataFrame ) into the ```CSV.write()``` function and also specifying a file path as a string as the first argument:"
   ]
  },
  {
   "cell_type": "code",
   "execution_count": null,
   "id": "636ffce8",
   "metadata": {},
   "outputs": [],
   "source": [
    "my_df |> CSV.write(\"data/my_file.csv\")"
   ]
  }
 ],
 "metadata": {
  "kernelspec": {
   "display_name": "Julia 1.10.1",
   "language": "julia",
   "name": "julia-1.10"
  },
  "language_info": {
   "file_extension": ".jl",
   "mimetype": "application/julia",
   "name": "julia",
   "version": "1.10.1"
  }
 },
 "nbformat": 4,
 "nbformat_minor": 5
}
